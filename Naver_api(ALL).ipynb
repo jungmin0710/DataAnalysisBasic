{
  "nbformat": 4,
  "nbformat_minor": 0,
  "metadata": {
    "colab": {
      "name": "Naver.api(ALL).ipynb",
      "provenance": [],
      "authorship_tag": "ABX9TyNzEVV66OJNYLfNdKor8mJ4",
      "include_colab_link": true
    },
    "kernelspec": {
      "name": "python3",
      "display_name": "Python 3"
    }
  },
  "cells": [
    {
      "cell_type": "markdown",
      "metadata": {
        "id": "view-in-github",
        "colab_type": "text"
      },
      "source": [
        "<a href=\"https://colab.research.google.com/github/jungmin0710/DataAnalysisBasic/blob/main/Naver_api(ALL).ipynb\" target=\"_parent\"><img src=\"https://colab.research.google.com/assets/colab-badge.svg\" alt=\"Open In Colab\"/></a>"
      ]
    },
    {
      "cell_type": "markdown",
      "metadata": {
        "id": "L2icNBNnbYtZ"
      },
      "source": [
        "네이버 검색 api를 가지고 와서 검색 결과를 데이터프레임으로 출력하고 csv파일로 저장하자!"
      ]
    },
    {
      "cell_type": "code",
      "metadata": {
        "id": "-B2T0SNDwV8h",
        "outputId": "437bc082-7297-4722-a328-d4c406707d59",
        "colab": {
          "base_uri": "https://localhost:8080/",
          "height": 188
        }
      },
      "source": [
        "import urllib.request\n",
        "import json\n",
        "import pandas as pd\n",
        "from datetime import datetime\n",
        "\n",
        "api_List = [\"blog\", \"news\", \"book\",\"encyc\",\"movie\",\"cafearticle\",\"kin\",\"webkr\",\"shop\"]\n",
        "\n",
        "where = int(input(\"어느 카테고리에서 검색할까요? (1:블로그 2:뉴스 3:책 4:백과사전 5:영화 6:카페 7:지식인 8:웹문서 9:쇼핑)\"))\n",
        "w = api_List[where-1]\n",
        "name=input(\"찾을 단어를 입력하세요 : \")\n",
        "num = int(input(\"몇 개 찾을까요?\"))\n",
        "\n",
        "client_id = \"PcadxlHpoofakp4E0Kz5\"\n",
        "client_secret = \"P0qDLr6sEW\"\n",
        "\n",
        "def create_url(api_node, search_text, start_num, disp_num):\n",
        "  base = \"https://openapi.naver.com/v1/search\"\n",
        "  node = \"/\" + api_node + \".json\"\n",
        "  param_query = \"?query=\" + urllib.parse.quote(search_text)\n",
        "  param_start = \"&start=\" + str(start_num)\n",
        "  param_disp = \"&display\" + str(disp_num)\n",
        "  return base + node + param_query + param_start + param_disp\n",
        "\n",
        "url = create_url(w,name,1,num)\n",
        "\n",
        "def get_dataFrame(url,where,num,client_id,client_secret):\n",
        "  if where == 1 or where == 2 or where == 4 or where == 6 or where == 7 or where == 8:#블로그,뉴스,백과사전,카페글,지식인,웹문서    \n",
        "    request = urllib.request.Request(url)\n",
        "    request.add_header(\"X-Naver-Client-Id\", client_id)\n",
        "    request.add_header(\"X-Naver-Client-Secret\", client_secret)    #인증\n",
        "    response = urllib.request.urlopen(request)\n",
        "    result = json.loads(response.read().decode('utf-8'))    #불러오기\n",
        "    titles = [result[\"items\"][n][\"title\"].replace(\"<b>\",\"\").replace(\"</b>\",\"\") for n in range(num)]\n",
        "    description = [result[\"items\"][n][\"description\"].replace(\"<b>\",\"\").replace(\"</b>\",\"\") for n in range(num)]\n",
        "    link = [result[\"items\"][n][\"link\"] for n in range(num)]\n",
        "    return pd.DataFrame({\"제목\" : titles, \"내용\":description, \"링크\":link})#데이터프레임 만들기\n",
        "\n",
        "  elif where == 3:#책\n",
        "    request = urllib.request.Request(url)\n",
        "    request.add_header(\"X-Naver-Client-Id\", client_id)\n",
        "    request.add_header(\"X-Naver-Client-Secret\", client_secret)    #인증\n",
        "    response = urllib.request.urlopen(request)\n",
        "    result = json.loads(response.read().decode('utf-8'))    #불러오기\n",
        "    titles = [result[\"items\"][n][\"title\"].replace(\"<b>\",\"\").replace(\"</b>\",\"\") for n in range(num)]\n",
        "    authors = [result[\"items\"][n][\"author\"].replace(\"<b>\",\"\").replace(\"</b>\",\"\") for n in range(num)]\n",
        "    pubdates = [result[\"items\"][n][\"pubdate\"] for n in range(num)]\n",
        "    return pd.DataFrame({\"제목\" : titles, \"작가\":authors, \"출판일\":pubdates})\n",
        "\n",
        "  elif where == 5:#영화\n",
        "    request = urllib.request.Request(url)\n",
        "    request.add_header(\"X-Naver-Client-Id\", client_id)\n",
        "    request.add_header(\"X-Naver-Client-Secret\", client_secret)    #인증\n",
        "    response = urllib.request.urlopen(request)\n",
        "    result = json.loads(response.read().decode('utf-8'))    #불러오기  \n",
        "    titles = [result[\"items\"][n][\"title\"].replace(\"<b>\",\"\").replace(\"</b>\",\"\") for n in range(num)]\n",
        "    directors = [result[\"items\"][n][\"director\"].replace(\"<b>\",\"\").replace(\"|\",\"\") for n in range(num)]\n",
        "    pubDates = [result[\"items\"][n][\"pubDate\"] for n in range(num)]\n",
        "    return pd.DataFrame({\"제목\" : titles, \"감독\":directors, \"개봉년도\":pubDates})\n",
        "\n",
        "  elif where == 9:#쇼핑\n",
        "    request = urllib.request.Request(url)\n",
        "    request.add_header(\"X-Naver-Client-Id\", client_id)\n",
        "    request.add_header(\"X-Naver-Client-Secret\", client_secret)    #인증\n",
        "    response = urllib.request.urlopen(request)\n",
        "    result = json.loads(response.read().decode('utf-8'))    #불러오기  \n",
        "    titles = [result[\"items\"][n][\"title\"].replace(\"<b>\",\"\").replace(\"</b>\",\"\") for n in range(num)]\n",
        "    lprice = [result[\"items\"][n][\"lprice\"] for n in range(num)]\n",
        "    brand = [result[\"items\"][n][\"brand\"] for n in range(num)]\n",
        "    return pd.DataFrame({\"제목\" : titles, \"가격\":lprice, \"브랜드\":brand})\n",
        "\n",
        "today = str(datetime.today())[0:10].replace(\"-\",\"\")\n",
        "search_outcome.to_csv(f'naver_search_result_{w}_{today}', encoding='utf-8')\n",
        "search_outcome = get_dataFrame(url,where,num,client_id,client_secret)\n",
        "search_outcome"
      ],
      "execution_count": 17,
      "outputs": [
        {
          "output_type": "stream",
          "text": [
            "어느 카테고리에서 검색할까요? (1:블로그 2:뉴스 3:책 4:백과사전 5:영화 6:카페 7:지식인 8:웹문서 9:쇼핑)7\n",
            "찾을 단어를 입력하세요 : 코로나\n",
            "몇 개 찾을까요?3\n"
          ],
          "name": "stdout"
        },
        {
          "output_type": "execute_result",
          "data": {
            "text/html": [
              "<div>\n",
              "<style scoped>\n",
              "    .dataframe tbody tr th:only-of-type {\n",
              "        vertical-align: middle;\n",
              "    }\n",
              "\n",
              "    .dataframe tbody tr th {\n",
              "        vertical-align: top;\n",
              "    }\n",
              "\n",
              "    .dataframe thead th {\n",
              "        text-align: right;\n",
              "    }\n",
              "</style>\n",
              "<table border=\"1\" class=\"dataframe\">\n",
              "  <thead>\n",
              "    <tr style=\"text-align: right;\">\n",
              "      <th></th>\n",
              "      <th>제목</th>\n",
              "      <th>내용</th>\n",
              "      <th>링크</th>\n",
              "    </tr>\n",
              "  </thead>\n",
              "  <tbody>\n",
              "    <tr>\n",
              "      <th>0</th>\n",
              "      <td>코로나 혀, 목젖 오른쪽 통증</td>\n",
              "      <td>... 코로나에 걸린 거 같아 질문 드립니다.. 처음엔 제가... 지금 제가 코로나...</td>\n",
              "      <td>https://kin.naver.com/qna/detail.nhn?d1id=7&amp;di...</td>\n",
              "    </tr>\n",
              "    <tr>\n",
              "      <th>1</th>\n",
              "      <td>코로나 바이러스 감염 질문</td>\n",
              "      <td>코로나 바이러스로 매일 소독하고 손 씻는데 혹시 가족들이 집... 공기에 코로나 바...</td>\n",
              "      <td>https://kin.naver.com/qna/detail.nhn?d1id=7&amp;di...</td>\n",
              "    </tr>\n",
              "    <tr>\n",
              "      <th>2</th>\n",
              "      <td>코로나19 전파율</td>\n",
              "      <td>코로나19 전파율 네, 코로나 바이러스 전파율은 상상을 넘어서고 있는것 같습니다. ...</td>\n",
              "      <td>https://kin.naver.com/qna/detail.nhn?d1id=6&amp;di...</td>\n",
              "    </tr>\n",
              "  </tbody>\n",
              "</table>\n",
              "</div>"
            ],
            "text/plain": [
              "                 제목  ...                                                 링크\n",
              "0  코로나 혀, 목젖 오른쪽 통증  ...  https://kin.naver.com/qna/detail.nhn?d1id=7&di...\n",
              "1    코로나 바이러스 감염 질문  ...  https://kin.naver.com/qna/detail.nhn?d1id=7&di...\n",
              "2         코로나19 전파율  ...  https://kin.naver.com/qna/detail.nhn?d1id=6&di...\n",
              "\n",
              "[3 rows x 3 columns]"
            ]
          },
          "metadata": {
            "tags": []
          },
          "execution_count": 17
        }
      ]
    },
    {
      "cell_type": "code",
      "metadata": {
        "id": "3r2pLDK1JmpC"
      },
      "source": [
        ""
      ],
      "execution_count": 1,
      "outputs": []
    }
  ]
}