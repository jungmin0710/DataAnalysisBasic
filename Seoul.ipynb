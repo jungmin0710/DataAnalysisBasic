{
  "nbformat": 4,
  "nbformat_minor": 0,
  "metadata": {
    "colab": {
      "name": "Seoul.ipynb",
      "provenance": [],
      "authorship_tag": "ABX9TyNAilX6veG827N8iaqCnYjc",
      "include_colab_link": true
    },
    "kernelspec": {
      "name": "python3",
      "display_name": "Python 3"
    }
  },
  "cells": [
    {
      "cell_type": "markdown",
      "metadata": {
        "id": "view-in-github",
        "colab_type": "text"
      },
      "source": [
        "<a href=\"https://colab.research.google.com/github/jungmin0710/DataAnalysisBasic/blob/main/Seoul.ipynb\" target=\"_parent\"><img src=\"https://colab.research.google.com/assets/colab-badge.svg\" alt=\"Open In Colab\"/></a>"
      ]
    },
    {
      "cell_type": "code",
      "metadata": {
        "id": "PifywX7-dSpp"
      },
      "source": [
        "import csv\n",
        "import matplotlib.pyplot as plt"
      ],
      "execution_count": 18,
      "outputs": []
    },
    {
      "cell_type": "code",
      "metadata": {
        "id": "7zrJJbLshclw"
      },
      "source": [
        "#기상 관측 이래 서울의 최고기온이 가장 높았던 날은 언제였고, 몇도였을까?"
      ],
      "execution_count": null,
      "outputs": []
    },
    {
      "cell_type": "code",
      "metadata": {
        "id": "8Vg34fM-meG6",
        "outputId": "bc766901-323a-4d98-f5b6-a8c8ad574cc6",
        "colab": {
          "base_uri": "https://localhost:8080/"
        }
      },
      "source": [
        "f = open('seoul.csv', 'r',encoding = 'cp949')\n",
        "data = csv.reader(f)\n",
        "header = next(data)\n",
        "max_temp = -999\n",
        "max_date = ''\n",
        "for row in data:\n",
        "  if row[-1] == '':\n",
        "    row[-1] = -999\n",
        "  row[-1] = float(row[-1])\n",
        "  if max_temp < row[-1] :\n",
        "    max_date = row[0]\n",
        "    max_temp = row[-1]\n",
        "f.close()\n",
        "print('기상 관측 이래 서울의 최고 기온이 가장 높았던 날은 ', max_date, '로, ', max_temp, '도 였습니다.')"
      ],
      "execution_count": null,
      "outputs": [
        {
          "output_type": "stream",
          "text": [
            "기상 관측 이래 서울의 최고 기온이 가장 높았던 날은  1994-07-24 로,  38.4 도 였습니다.\n"
          ],
          "name": "stdout"
        }
      ]
    },
    {
      "cell_type": "code",
      "metadata": {
        "id": "7SpTT9FjqCII"
      },
      "source": [
        "#내 생일의 기온변화는 어땠을까?"
      ],
      "execution_count": 14,
      "outputs": []
    },
    {
      "cell_type": "code",
      "metadata": {
        "id": "1ZpGM8p3sdSA"
      },
      "source": [
        "f = open('seoul.csv', 'r',encoding = 'cp949')\n",
        "data = csv.reader(f)\n",
        "next(data)\n",
        "high = []\n",
        "low = []\n",
        "\n",
        "for row in data:\n",
        "  if row[-1] != '' and row[-2] != '':\n",
        "    if 1996 <= int(row[0].split('-')[0]):\n",
        "      if row[0].split('-')[1] == '07' and row[0].split('-')[2] == '10':\n",
        "        high.append(float(row[-1]))\n",
        "        low.append(float(row[-2]))\n",
        "f.close()"
      ],
      "execution_count": 28,
      "outputs": []
    },
    {
      "cell_type": "code",
      "metadata": {
        "id": "Hf5l7hNPsoKO",
        "outputId": "5e7a35cd-72fe-46ae-86b6-2cb21efaff6b",
        "colab": {
          "base_uri": "https://localhost:8080/",
          "height": 268
        }
      },
      "source": [
        "plt.plot(high, 'hotpink')\n",
        "plt.plot(low, 'skyblue')\n",
        "plt.show()"
      ],
      "execution_count": 29,
      "outputs": [
        {
          "output_type": "display_data",
          "data": {
            "image/png": "[encoded data removed]",
            "text/plain": [
              "<Figure size 432x288 with 1 Axes>"
            ]
          },
          "metadata": {
            "tags": [],
            "needs_background": "light"
          }
        }
      ]
    },
    {
      "cell_type": "code",
      "metadata": {
        "id": "K3b6JVB_t6_g"
      },
      "source": [
        ""
      ],
      "execution_count": null,
      "outputs": []
    }
  ]
}