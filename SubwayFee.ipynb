{
  "nbformat": 4,
  "nbformat_minor": 0,
  "metadata": {
    "colab": {
      "name": "SubwayFee.ipynb",
      "provenance": [],
      "collapsed_sections": [],
      "authorship_tag": "ABX9TyMNNY5xG/SExFhRlHt+TkEO",
      "include_colab_link": true
    },
    "kernelspec": {
      "name": "python3",
      "display_name": "Python 3"
    }
  },
  "cells": [
    {
      "cell_type": "markdown",
      "metadata": {
        "id": "view-in-github",
        "colab_type": "text"
      },
      "source": [
        "<a href=\"https://colab.research.google.com/github/jungmin0710/DataAnalysisBasic/blob/main/SubwayFee.ipynb\" target=\"_parent\"><img src=\"https://colab.research.google.com/assets/colab-badge.svg\" alt=\"Open In Colab\"/></a>"
      ]
    },
    {
      "cell_type": "code",
      "metadata": {
        "id": "G7Xs5cPImdz0"
      },
      "source": [
        "import csv\n",
        "import matplotlib.pyplot as plt"
      ],
      "execution_count": null,
      "outputs": []
    },
    {
      "cell_type": "code",
      "metadata": {
        "id": "cdbBHAN3nmw3",
        "outputId": "71b6f4ba-be57-4cd4-ed0d-9bd3746240a0",
        "colab": {
          "base_uri": "https://localhost:8080/"
        }
      },
      "source": [
        "%matplotlib inline  \n",
        "import matplotlib as mpl  # 기본 설정 만지는 용도\n",
        "import matplotlib.pyplot as plt  # 그래프 그리는 용도\n",
        "import matplotlib.font_manager as fm  # 폰트 관련 용도\n",
        "!apt-get update -qq\n",
        "!apt-get install fonts-nanum* -qq\n",
        "path = '/usr/share/fonts/truetype/nanum/NanumGothicEco.ttf'  # 설치된 나눔글꼴중 원하는 녀석의 전체 경로를 가져오자\n",
        "font_name = fm.FontProperties(fname=path, size=10).get_name()\n",
        "print(font_name)\n",
        "plt.rc('font', family=font_name)\n",
        "# 우선 fm._rebuild() 를 해주고\n",
        "fm._rebuild()\n",
        "mpl.rcParams['axes.unicode_minus'] = False#마이너스 기호 나오게"
      ],
      "execution_count": null,
      "outputs": [
        {
          "output_type": "stream",
          "text": [
            "NanumGothic Eco\n"
          ],
          "name": "stdout"
        }
      ]
    },
    {
      "cell_type": "code",
      "metadata": {
        "id": "0OJEy4MHoNnF"
      },
      "source": [
        "#유임승차 비율이 가장 높은 역은 어디일까?"
      ],
      "execution_count": null,
      "outputs": []
    },
    {
      "cell_type": "code",
      "metadata": {
        "id": "RbAn4aAAnU4a",
        "outputId": "d9cea969-76d5-4fda-c070-ba01612e89e2",
        "colab": {
          "base_uri": "https://localhost:8080/"
        }
      },
      "source": [
        "f = open('subwayfee.csv', encoding='cp949')\n",
        "data = csv.reader(f)\n",
        "next(data)\n",
        "mx = 0\n",
        "rate = 0\n",
        "mx_station = ''\n",
        "\n",
        "for row in data:\n",
        "  for i in range(4,8):\n",
        "    row[i] = int(row[i])\n",
        "  if row[6] != 0 and (row[4] + row[6]) > 100000:\n",
        "    rate = row[4] / (row[4] + row[6])\n",
        "    if rate > mx :\n",
        "      mx = rate\n",
        "      mx_station = row[3] + ' ' + row[1]\n",
        "\n",
        "print(mx_station, round(mx*100,2))"
      ],
      "execution_count": null,
      "outputs": [
        {
          "output_type": "stream",
          "text": [
            "홍대입구 2호선 95.34\n"
          ],
          "name": "stdout"
        }
      ]
    },
    {
      "cell_type": "code",
      "metadata": {
        "id": "hRWdzaQnnqT2"
      },
      "source": [
        "#유무임 승하차 인원이 가장 많은 역은 어디일까?"
      ],
      "execution_count": null,
      "outputs": []
    },
    {
      "cell_type": "code",
      "metadata": {
        "id": "XRoakKxgw93H",
        "outputId": "c084e6de-5b52-4ca8-e4bb-3d9d22547412",
        "colab": {
          "base_uri": "https://localhost:8080/"
        }
      },
      "source": [
        "f = open('subwayfee.csv', encoding='cp949')\n",
        "data = csv.reader(f)\n",
        "next(data)\n",
        "mx = [0] * 4\n",
        "mx_station = [''] * 4\n",
        "label = ['유임승차', '유임하차','무임승차','무임하차']\n",
        "\n",
        "for row in data:\n",
        "  for i in range(4,8):\n",
        "    row[i] = int(row[i])\n",
        "    if row[i] > mx[i-4]:\n",
        "      mx[i-4] = row[i]\n",
        "      mx_station[i-4] = row[3] + ' ' + row[1]\n",
        "\n",
        "for i in range(4):\n",
        "  print(label[i] + ':' + mx_station[i], mx[i])"
      ],
      "execution_count": null,
      "outputs": [
        {
          "output_type": "stream",
          "text": [
            "유임승차:강남 2호선 3153418\n",
            "유임하차:강남 2호선 3210437\n",
            "무임승차:종로3가 1호선 387062\n",
            "무임하차:제기동 1호선 400607\n"
          ],
          "name": "stdout"
        }
      ]
    },
    {
      "cell_type": "code",
      "metadata": {
        "id": "KcL68I-nxkrd"
      },
      "source": [
        "#모든 역의 유무임 승하차 비율은 어떻게 될까?"
      ],
      "execution_count": null,
      "outputs": []
    },
    {
      "cell_type": "code",
      "metadata": {
        "id": "cosJnVb_yJnV"
      },
      "source": [
        "f = open('subwayfee.csv', encoding='cp949')\n",
        "data = csv.reader(f)\n",
        "next(data)\n",
        "label = ['유임승차', '유임하차','무임승차','무임하차']\n",
        "c = ['#14CCC0','#389993','#FF1C6A','#CC14AF']\n",
        "plt.rc('font', family=font_name)\n",
        "\n",
        "for row in data:\n",
        "  for i in range(4,8):\n",
        "    row[i] = int(row[i])\n",
        "  plt.figure(dpi=300)\n",
        "  plt.title(row[3] + ' ' + row[1])\n",
        "  plt.pie(row[4:8], labels=label, colors=c, autopct='%1.f%%')\n",
        "  plt.axis('equal')\n",
        "  plt.savefig(row[3] + ' ' + row[1] + '.png') #작업중인 폴더에 png파일로 파이차트 저장하기\n",
        "  plt.show()"
      ],
      "execution_count": null,
      "outputs": []
    },
    {
      "cell_type": "code",
      "metadata": {
        "id": "Rjgn-_Eb0W_C"
      },
      "source": [
        ""
      ],
      "execution_count": null,
      "outputs": []
    }
  ]
}