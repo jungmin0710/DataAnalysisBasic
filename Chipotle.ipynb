{
  "nbformat": 4,
  "nbformat_minor": 0,
  "metadata": {
    "colab": {
      "name": "Chipotle.ipynb",
      "provenance": [],
      "authorship_tag": "ABX9TyNgEg0eENBvVOt1uIUPh7ho",
      "include_colab_link": true
    },
    "kernelspec": {
      "name": "python3",
      "display_name": "Python 3"
    }
  },
  "cells": [
    {
      "cell_type": "markdown",
      "metadata": {
        "id": "view-in-github",
        "colab_type": "text"
      },
      "source": [
        "<a href=\"https://colab.research.google.com/github/jungmin0710/DataAnalysisBasic/blob/main/Chipotle.ipynb\" target=\"_parent\"><img src=\"https://colab.research.google.com/assets/colab-badge.svg\" alt=\"Open In Colab\"/></a>"
      ]
    },
    {
      "cell_type": "code",
      "metadata": {
        "id": "miC86cSRU_YK"
      },
      "source": [
        "#step 1 : 데이터 탐색\n",
        "#토이 데이터 : 실제 데이터가 아닌 연습용으로 만들어 놓은 데이터(chipotle.tsv)\n",
        "\n",
        "import pandas as pd\n",
        "\n",
        "#DataFrame 형태로 불러오기\n",
        "\n",
        "file_path = 'chipotle.tsv'\n",
        "chipo = pd.read_csv(file_path, sep = '\\t')"
      ],
      "execution_count": null,
      "outputs": []
    },
    {
      "cell_type": "code",
      "metadata": {
        "id": "j_2LN36xeHbb",
        "outputId": "fee68aa0-d351-40a1-fbfc-f7ae71c009b0",
        "colab": {
          "base_uri": "https://localhost:8080/",
          "height": 281
        }
      },
      "source": [
        "print(chipo.shape) # shape() 데이터의 행과 열의 크기\n",
        "print(\"----------------------------\")\n",
        "print(chipo.info()) #info() 행의 구성정보, 열의 구성정보\n",
        "\n",
        "#object는 데이터 프레임에서 일반적으로 문자열을 의미함.\n",
        "#null 비어있음을 의미함. ( = 결측값)\n",
        "#여기서는 3번 열에 4622-3376 = 1246개의 결측치가 존재"
      ],
      "execution_count": null,
      "outputs": [
        {
          "output_type": "stream",
          "text": [
            "(4622, 5)\n",
            "----------------------------\n",
            "<class 'pandas.core.frame.DataFrame'>\n",
            "RangeIndex: 4622 entries, 0 to 4621\n",
            "Data columns (total 5 columns):\n",
            " #   Column              Non-Null Count  Dtype \n",
            "---  ------              --------------  ----- \n",
            " 0   order_id            4622 non-null   int64 \n",
            " 1   quantity            4622 non-null   int64 \n",
            " 2   item_name           4622 non-null   object\n",
            " 3   choice_description  3376 non-null   object\n",
            " 4   item_price          4622 non-null   object\n",
            "dtypes: int64(2), object(3)\n",
            "memory usage: 180.7+ KB\n",
            "None\n"
          ],
          "name": "stdout"
        }
      ]
    },
    {
      "cell_type": "code",
      "metadata": {
        "id": "bXcY463Vi6rV",
        "outputId": "4b7f4913-4725-480b-f859-d0e18f70d4db",
        "colab": {
          "base_uri": "https://localhost:8080/",
          "height": 461
        }
      },
      "source": [
        "chipo.head(10) # chipo라는 데이터프레임에서 순서대로 상위 10개 행데이터를 출력\n",
        "#order_id = 주문번호\n",
        "#quantity = 주문량\n",
        "#item_name = 메뉴 이름\n",
        "#choice_description = 주문한 메뉴의 상세선택옵션\n",
        "#item price = 메뉴 가격"
      ],
      "execution_count": null,
      "outputs": [
        {
          "output_type": "execute_result",
          "data": {
            "text/html": [
              "<div>\n",
              "<style scoped>\n",
              "    .dataframe tbody tr th:only-of-type {\n",
              "        vertical-align: middle;\n",
              "    }\n",
              "\n",
              "    .dataframe tbody tr th {\n",
              "        vertical-align: top;\n",
              "    }\n",
              "\n",
              "    .dataframe thead th {\n",
              "        text-align: right;\n",
              "    }\n",
              "</style>\n",
              "<table border=\"1\" class=\"dataframe\">\n",
              "  <thead>\n",
              "    <tr style=\"text-align: right;\">\n",
              "      <th></th>\n",
              "      <th>order_id</th>\n",
              "      <th>quantity</th>\n",
              "      <th>item_name</th>\n",
              "      <th>choice_description</th>\n",
              "      <th>item_price</th>\n",
              "    </tr>\n",
              "  </thead>\n",
              "  <tbody>\n",
              "    <tr>\n",
              "      <th>0</th>\n",
              "      <td>1</td>\n",
              "      <td>1</td>\n",
              "      <td>Chips and Fresh Tomato Salsa</td>\n",
              "      <td>NaN</td>\n",
              "      <td>$2.39</td>\n",
              "    </tr>\n",
              "    <tr>\n",
              "      <th>1</th>\n",
              "      <td>1</td>\n",
              "      <td>1</td>\n",
              "      <td>Izze</td>\n",
              "      <td>[Clementine]</td>\n",
              "      <td>$3.39</td>\n",
              "    </tr>\n",
              "    <tr>\n",
              "      <th>2</th>\n",
              "      <td>1</td>\n",
              "      <td>1</td>\n",
              "      <td>Nantucket Nectar</td>\n",
              "      <td>[Apple]</td>\n",
              "      <td>$3.39</td>\n",
              "    </tr>\n",
              "    <tr>\n",
              "      <th>3</th>\n",
              "      <td>1</td>\n",
              "      <td>1</td>\n",
              "      <td>Chips and Tomatillo-Green Chili Salsa</td>\n",
              "      <td>NaN</td>\n",
              "      <td>$2.39</td>\n",
              "    </tr>\n",
              "    <tr>\n",
              "      <th>4</th>\n",
              "      <td>2</td>\n",
              "      <td>2</td>\n",
              "      <td>Chicken Bowl</td>\n",
              "      <td>[Tomatillo-Red Chili Salsa (Hot), [Black Beans...</td>\n",
              "      <td>$16.98</td>\n",
              "    </tr>\n",
              "    <tr>\n",
              "      <th>5</th>\n",
              "      <td>3</td>\n",
              "      <td>1</td>\n",
              "      <td>Chicken Bowl</td>\n",
              "      <td>[Fresh Tomato Salsa (Mild), [Rice, Cheese, Sou...</td>\n",
              "      <td>$10.98</td>\n",
              "    </tr>\n",
              "    <tr>\n",
              "      <th>6</th>\n",
              "      <td>3</td>\n",
              "      <td>1</td>\n",
              "      <td>Side of Chips</td>\n",
              "      <td>NaN</td>\n",
              "      <td>$1.69</td>\n",
              "    </tr>\n",
              "    <tr>\n",
              "      <th>7</th>\n",
              "      <td>4</td>\n",
              "      <td>1</td>\n",
              "      <td>Steak Burrito</td>\n",
              "      <td>[Tomatillo Red Chili Salsa, [Fajita Vegetables...</td>\n",
              "      <td>$11.75</td>\n",
              "    </tr>\n",
              "    <tr>\n",
              "      <th>8</th>\n",
              "      <td>4</td>\n",
              "      <td>1</td>\n",
              "      <td>Steak Soft Tacos</td>\n",
              "      <td>[Tomatillo Green Chili Salsa, [Pinto Beans, Ch...</td>\n",
              "      <td>$9.25</td>\n",
              "    </tr>\n",
              "    <tr>\n",
              "      <th>9</th>\n",
              "      <td>5</td>\n",
              "      <td>1</td>\n",
              "      <td>Steak Burrito</td>\n",
              "      <td>[Fresh Tomato Salsa, [Rice, Black Beans, Pinto...</td>\n",
              "      <td>$9.25</td>\n",
              "    </tr>\n",
              "  </tbody>\n",
              "</table>\n",
              "</div>"
            ],
            "text/plain": [
              "   order_id  ...  item_price\n",
              "0         1  ...      $2.39 \n",
              "1         1  ...      $3.39 \n",
              "2         1  ...      $3.39 \n",
              "3         1  ...      $2.39 \n",
              "4         2  ...     $16.98 \n",
              "5         3  ...     $10.98 \n",
              "6         3  ...      $1.69 \n",
              "7         4  ...     $11.75 \n",
              "8         4  ...      $9.25 \n",
              "9         5  ...      $9.25 \n",
              "\n",
              "[10 rows x 5 columns]"
            ]
          },
          "metadata": {
            "tags": []
          },
          "execution_count": 11
        }
      ]
    },
    {
      "cell_type": "code",
      "metadata": {
        "id": "LWR2Oij6m6pQ",
        "outputId": "6e970588-a1ef-4a3e-c15e-15e8d2f5621f",
        "colab": {
          "base_uri": "https://localhost:8080/",
          "height": 175
        }
      },
      "source": [
        "# 열(피처)의 형태, 종류\n",
        "# 수치형 피처 (Numerical Feature)\n",
        "# 1) 연속형 피처 : 어떤 구간 안의 모든 값을 데이터로 가질 수 있다. ex)키, 몸무게 등등\n",
        "# 2) 비연속형 피처 : 셀 수 있으며, 일정 구간 안에서 정해진 몇개의 값만 가진다. ex)나이\n",
        "# 범주형 피처 (Categorical Feature)\n",
        "# 1) 순서가 있는 범주형 피처 : 순서가 있으나 수치는 아니다. ex)학점(A,B,C..)\n",
        "# 2) 순서가 없는 범주형 피처 : 데이터가 구분되면서도 순서는 없다. ex)혈액형\n",
        "\n",
        "# describe() 함수 : 요약 통계량\n",
        "\n",
        "chipo['order_id'] = chipo['order_id'].astype(str) \n",
        "# order_id는 숫자의 의미를 가지지 않기 때문에 str로 변환함\n",
        "\n",
        "print(chipo.describe())\n",
        "# chipo 데이터 프레임에서 수치형 피처들의 기초 통계량을 확인한다.\n",
        "# mean 아이템의 평균 주문 수량 약 1.07 => 대부분이 한 메뉴를 1개정도만 주문했다.\n",
        "# 한 사람이 같은 메뉴를 여러개 구매하는 경우는 많지않다.(혼자 와서 구매하는 경우가 대부분이다.)"
      ],
      "execution_count": null,
      "outputs": [
        {
          "output_type": "stream",
          "text": [
            "          quantity\n",
            "count  4622.000000\n",
            "mean      1.075725\n",
            "std       0.410186\n",
            "min       1.000000\n",
            "25%       1.000000\n",
            "50%       1.000000\n",
            "75%       1.000000\n",
            "max      15.000000\n"
          ],
          "name": "stdout"
        }
      ]
    },
    {
      "cell_type": "code",
      "metadata": {
        "id": "9gAGNp4Lre4_",
        "outputId": "d81d2591-fbfd-414d-e698-f16c25b1c023",
        "colab": {
          "base_uri": "https://localhost:8080/",
          "height": 52
        }
      },
      "source": [
        "# unique() 함수로 범주형 피처의 개수 출력\n",
        "\n",
        "# 두가지 피처는 범주형이기 때문에 unique()함수를 사용\n",
        "\n",
        "print(len(chipo['order_id'].unique())) #order_id 피처의 개수를 출력\n",
        "print(len(chipo['item_name'].unique())) #item_name의 피처 개수를 출력"
      ],
      "execution_count": null,
      "outputs": [
        {
          "output_type": "stream",
          "text": [
            "1834\n",
            "50\n"
          ],
          "name": "stdout"
        }
      ]
    },
    {
      "cell_type": "code",
      "metadata": {
        "id": "BgG3laJFs3g3"
      },
      "source": [
        "#################################################################################\n",
        "#step2 : 인사이트의 발견"
      ],
      "execution_count": null,
      "outputs": []
    },
    {
      "cell_type": "code",
      "metadata": {
        "id": "CgK_beY1s5Rh",
        "outputId": "96deccad-54cc-4430-b66a-6a91b608f901",
        "colab": {
          "base_uri": "https://localhost:8080/",
          "height": 211
        }
      },
      "source": [
        "# 가장 많이 주문한 제품은 무엇일까? : Chicken Bowl\n",
        "# DataFrame['column'] 형태에 value-counts()를 적용해서 분석\n",
        "\n",
        "item_count = chipo['item_name'].value_counts()[:10]\n",
        "for idx, (val,cnt) in enumerate(item_count.iteritems(),1):\n",
        "  print('Top',idx,\":\", val, cnt)\n",
        "\n",
        "chipo['item_name'].value_counts().index.tolist()[0]"
      ],
      "execution_count": null,
      "outputs": [
        {
          "output_type": "stream",
          "text": [
            "Top 1 : Chicken Bowl 726\n",
            "Top 2 : Chicken Burrito 553\n",
            "Top 3 : Chips and Guacamole 479\n",
            "Top 4 : Steak Burrito 368\n",
            "Top 5 : Canned Soft Drink 301\n",
            "Top 6 : Steak Bowl 211\n",
            "Top 7 : Chips 211\n",
            "Top 8 : Bottled Water 162\n",
            "Top 9 : Chicken Soft Tacos 115\n",
            "Top 10 : Chicken Salad Bowl 110\n"
          ],
          "name": "stdout"
        },
        {
          "output_type": "execute_result",
          "data": {
            "application/vnd.google.colaboratory.intrinsic+json": {
              "type": "string"
            },
            "text/plain": [
              "'Chicken Bowl'"
            ]
          },
          "metadata": {
            "tags": []
          },
          "execution_count": 23
        }
      ]
    },
    {
      "cell_type": "code",
      "metadata": {
        "id": "d0OC2G8SwMeI",
        "outputId": "a2c6915b-3fbe-4199-97d7-7144dd76c0e0",
        "colab": {
          "base_uri": "https://localhost:8080/",
          "height": 228
        }
      },
      "source": [
        "# 메뉴 별 주문개수와 총량\n",
        "\n",
        "# 메뉴 별 주문개수\n",
        "#groupby() 함수를 이용(데이터프레임에서 특정 피처를 기준으로 그룹을 생성, 그룹별로 연산 가능)\n",
        "\n",
        "order_count = chipo.groupby('item_name')['order_id'].count()\n",
        "order_count[:10]\n",
        "\n"
      ],
      "execution_count": null,
      "outputs": [
        {
          "output_type": "execute_result",
          "data": {
            "text/plain": [
              "item_name\n",
              "6 Pack Soft Drink         54\n",
              "Barbacoa Bowl             66\n",
              "Barbacoa Burrito          91\n",
              "Barbacoa Crispy Tacos     11\n",
              "Barbacoa Salad Bowl       10\n",
              "Barbacoa Soft Tacos       25\n",
              "Bottled Water            162\n",
              "Bowl                       2\n",
              "Burrito                    6\n",
              "Canned Soda              104\n",
              "Name: order_id, dtype: int64"
            ]
          },
          "metadata": {
            "tags": []
          },
          "execution_count": 28
        }
      ]
    },
    {
      "cell_type": "code",
      "metadata": {
        "id": "kH-wXa9Axmj8",
        "outputId": "6377b0d6-3f6d-4725-b878-5d8d267c875b",
        "colab": {
          "base_uri": "https://localhost:8080/",
          "height": 228
        }
      },
      "source": [
        "# 메뉴 당 주문 총량\n",
        "item_quantity = chipo.groupby('item_name')['quantity'].sum()\n",
        "item_quantity[:10]"
      ],
      "execution_count": null,
      "outputs": [
        {
          "output_type": "execute_result",
          "data": {
            "text/plain": [
              "item_name\n",
              "6 Pack Soft Drink         55\n",
              "Barbacoa Bowl             66\n",
              "Barbacoa Burrito          91\n",
              "Barbacoa Crispy Tacos     12\n",
              "Barbacoa Salad Bowl       10\n",
              "Barbacoa Soft Tacos       25\n",
              "Bottled Water            211\n",
              "Bowl                       4\n",
              "Burrito                    6\n",
              "Canned Soda              126\n",
              "Name: quantity, dtype: int64"
            ]
          },
          "metadata": {
            "tags": []
          },
          "execution_count": 30
        }
      ]
    },
    {
      "cell_type": "code",
      "metadata": {
        "id": "8LPoRXzT0-4U",
        "outputId": "0d95d3d0-868d-4e8e-f766-3a8a465a6428",
        "colab": {
          "base_uri": "https://localhost:8080/",
          "height": 281
        }
      },
      "source": [
        "# 간단한 시각화\n",
        "# 시각화를 하면 숫자와 문자로만 되어있는 데이터에서는 보이지 않던 정보를 발견할 수도 있다.\n",
        "\n",
        "%matplotlib inline \n",
        "# 브라우저에서 결과 그림을 바로 볼 수 있게 설정\n",
        "\n",
        "import numpy as np\n",
        "import matplotlib.pyplot as plt\n",
        "\n",
        "item_name_list = item_quantity.index.tolist()\n",
        "x_pos = np.arange(len(item_name_list))\n",
        "#50개 아이템의 이름을 모두 x축에 표현하기에는 공간이 협소하기 때문에 인덱스로 대체\n",
        "order_cnt = item_quantity.values.tolist()\n",
        "\n",
        "plt.bar(x_pos, order_cnt, align = 'center')\n",
        "plt.ylabel('ordered_item_count:')\n",
        "plt.title('Distribution of all ordered item')\n",
        "\n",
        "plt.show()"
      ],
      "execution_count": null,
      "outputs": [
        {
          "output_type": "display_data",
          "data": {
            "image/png": "[encoded data removed]",
            "text/plain": [
              "<Figure size 432x288 with 1 Axes>"
            ]
          },
          "metadata": {
            "tags": [],
            "needs_background": "light"
          }
        }
      ]
    },
    {
      "cell_type": "code",
      "metadata": {
        "id": "NRvFdK-T4Uki"
      },
      "source": [
        "#################################################################################\n",
        "#step3 : 데이터 전처리"
      ],
      "execution_count": null,
      "outputs": []
    },
    {
      "cell_type": "code",
      "metadata": {
        "id": "7RPPJKU-4bM5",
        "outputId": "b13c1a3b-0d7b-43d4-d7f3-7889d3899912",
        "colab": {
          "base_uri": "https://localhost:8080/",
          "height": 369
        }
      },
      "source": [
        "# apply lambda 함수를 이용한 데이터 전처리\n",
        "# item_price가 문자열이기 때문에 ($) 요약 통계를 구할 수가 없음\n",
        "\n",
        "print(chipo.info())\n",
        "print('------------------------')\n",
        "chipo['item_price'].head()"
      ],
      "execution_count": null,
      "outputs": [
        {
          "output_type": "stream",
          "text": [
            "<class 'pandas.core.frame.DataFrame'>\n",
            "RangeIndex: 4622 entries, 0 to 4621\n",
            "Data columns (total 5 columns):\n",
            " #   Column              Non-Null Count  Dtype \n",
            "---  ------              --------------  ----- \n",
            " 0   order_id            4622 non-null   object\n",
            " 1   quantity            4622 non-null   int64 \n",
            " 2   item_name           4622 non-null   object\n",
            " 3   choice_description  3376 non-null   object\n",
            " 4   item_price          4622 non-null   object\n",
            "dtypes: int64(1), object(4)\n",
            "memory usage: 180.7+ KB\n",
            "None\n",
            "------------------------\n"
          ],
          "name": "stdout"
        },
        {
          "output_type": "execute_result",
          "data": {
            "text/plain": [
              "0     $2.39 \n",
              "1     $3.39 \n",
              "2     $3.39 \n",
              "3     $2.39 \n",
              "4    $16.98 \n",
              "Name: item_price, dtype: object"
            ]
          },
          "metadata": {
            "tags": []
          },
          "execution_count": 42
        }
      ]
    },
    {
      "cell_type": "code",
      "metadata": {
        "id": "mb5yQdMs6KJO",
        "outputId": "f297f314-3216-45a3-aa42-684410086ffd",
        "colab": {
          "base_uri": "https://localhost:8080/",
          "height": 422
        }
      },
      "source": [
        "# $기호 제거\n",
        "# apply 함수는 시리즈 단위의 연산을 처리하는 기능을 수행\n",
        "# sum(), mean()등과 같이 연산이 정의된 함수를 받는다.\n",
        "chipo['item_price'] = chipo['item_price'].apply(lambda x: float(x[1:]))\n",
        "\n",
        "chipo.describe()\n"
      ],
      "execution_count": null,
      "outputs": [
        {
          "output_type": "error",
          "ename": "TypeError",
          "evalue": "ignored",
          "traceback": [
            "\u001b[0;31m---------------------------------------------------------------------------\u001b[0m",
            "\u001b[0;31mTypeError\u001b[0m                                 Traceback (most recent call last)",
            "\u001b[0;32m<ipython-input-48-41780cee33b3>\u001b[0m in \u001b[0;36m<module>\u001b[0;34m()\u001b[0m\n\u001b[1;32m      1\u001b[0m \u001b[0;31m# $기호 제거\u001b[0m\u001b[0;34m\u001b[0m\u001b[0;34m\u001b[0m\u001b[0;34m\u001b[0m\u001b[0m\n\u001b[1;32m      2\u001b[0m \u001b[0;34m\u001b[0m\u001b[0m\n\u001b[0;32m----> 3\u001b[0;31m \u001b[0mchipo\u001b[0m\u001b[0;34m[\u001b[0m\u001b[0;34m'item_price'\u001b[0m\u001b[0;34m]\u001b[0m \u001b[0;34m=\u001b[0m \u001b[0mchipo\u001b[0m\u001b[0;34m[\u001b[0m\u001b[0;34m'item_price'\u001b[0m\u001b[0;34m]\u001b[0m\u001b[0;34m.\u001b[0m\u001b[0mapply\u001b[0m\u001b[0;34m(\u001b[0m\u001b[0;32mlambda\u001b[0m \u001b[0mx\u001b[0m\u001b[0;34m:\u001b[0m \u001b[0mfloat\u001b[0m\u001b[0;34m(\u001b[0m\u001b[0mx\u001b[0m\u001b[0;34m[\u001b[0m\u001b[0;36m1\u001b[0m\u001b[0;34m:\u001b[0m\u001b[0;34m]\u001b[0m\u001b[0;34m)\u001b[0m\u001b[0;34m)\u001b[0m\u001b[0;34m\u001b[0m\u001b[0;34m\u001b[0m\u001b[0m\n\u001b[0m\u001b[1;32m      4\u001b[0m \u001b[0;34m\u001b[0m\u001b[0m\n\u001b[1;32m      5\u001b[0m \u001b[0mchipo\u001b[0m\u001b[0;34m.\u001b[0m\u001b[0mdescribe\u001b[0m\u001b[0;34m(\u001b[0m\u001b[0;34m)\u001b[0m\u001b[0;34m\u001b[0m\u001b[0;34m\u001b[0m\u001b[0m\n",
            "\u001b[0;32m/usr/local/lib/python3.6/dist-packages/pandas/core/series.py\u001b[0m in \u001b[0;36mapply\u001b[0;34m(self, func, convert_dtype, args, **kwds)\u001b[0m\n\u001b[1;32m   4198\u001b[0m             \u001b[0;32melse\u001b[0m\u001b[0;34m:\u001b[0m\u001b[0;34m\u001b[0m\u001b[0;34m\u001b[0m\u001b[0m\n\u001b[1;32m   4199\u001b[0m                 \u001b[0mvalues\u001b[0m \u001b[0;34m=\u001b[0m \u001b[0mself\u001b[0m\u001b[0;34m.\u001b[0m\u001b[0mastype\u001b[0m\u001b[0;34m(\u001b[0m\u001b[0mobject\u001b[0m\u001b[0;34m)\u001b[0m\u001b[0;34m.\u001b[0m\u001b[0m_values\u001b[0m\u001b[0;34m\u001b[0m\u001b[0;34m\u001b[0m\u001b[0m\n\u001b[0;32m-> 4200\u001b[0;31m                 \u001b[0mmapped\u001b[0m \u001b[0;34m=\u001b[0m \u001b[0mlib\u001b[0m\u001b[0;34m.\u001b[0m\u001b[0mmap_infer\u001b[0m\u001b[0;34m(\u001b[0m\u001b[0mvalues\u001b[0m\u001b[0;34m,\u001b[0m \u001b[0mf\u001b[0m\u001b[0;34m,\u001b[0m \u001b[0mconvert\u001b[0m\u001b[0;34m=\u001b[0m\u001b[0mconvert_dtype\u001b[0m\u001b[0;34m)\u001b[0m\u001b[0;34m\u001b[0m\u001b[0;34m\u001b[0m\u001b[0m\n\u001b[0m\u001b[1;32m   4201\u001b[0m \u001b[0;34m\u001b[0m\u001b[0m\n\u001b[1;32m   4202\u001b[0m         \u001b[0;32mif\u001b[0m \u001b[0mlen\u001b[0m\u001b[0;34m(\u001b[0m\u001b[0mmapped\u001b[0m\u001b[0;34m)\u001b[0m \u001b[0;32mand\u001b[0m \u001b[0misinstance\u001b[0m\u001b[0;34m(\u001b[0m\u001b[0mmapped\u001b[0m\u001b[0;34m[\u001b[0m\u001b[0;36m0\u001b[0m\u001b[0;34m]\u001b[0m\u001b[0;34m,\u001b[0m \u001b[0mSeries\u001b[0m\u001b[0;34m)\u001b[0m\u001b[0;34m:\u001b[0m\u001b[0;34m\u001b[0m\u001b[0;34m\u001b[0m\u001b[0m\n",
            "\u001b[0;32mpandas/_libs/lib.pyx\u001b[0m in \u001b[0;36mpandas._libs.lib.map_infer\u001b[0;34m()\u001b[0m\n",
            "\u001b[0;32m<ipython-input-48-41780cee33b3>\u001b[0m in \u001b[0;36m<lambda>\u001b[0;34m(x)\u001b[0m\n\u001b[1;32m      1\u001b[0m \u001b[0;31m# $기호 제거\u001b[0m\u001b[0;34m\u001b[0m\u001b[0;34m\u001b[0m\u001b[0;34m\u001b[0m\u001b[0m\n\u001b[1;32m      2\u001b[0m \u001b[0;34m\u001b[0m\u001b[0m\n\u001b[0;32m----> 3\u001b[0;31m \u001b[0mchipo\u001b[0m\u001b[0;34m[\u001b[0m\u001b[0;34m'item_price'\u001b[0m\u001b[0;34m]\u001b[0m \u001b[0;34m=\u001b[0m \u001b[0mchipo\u001b[0m\u001b[0;34m[\u001b[0m\u001b[0;34m'item_price'\u001b[0m\u001b[0;34m]\u001b[0m\u001b[0;34m.\u001b[0m\u001b[0mapply\u001b[0m\u001b[0;34m(\u001b[0m\u001b[0;32mlambda\u001b[0m \u001b[0mx\u001b[0m\u001b[0;34m:\u001b[0m \u001b[0mfloat\u001b[0m\u001b[0;34m(\u001b[0m\u001b[0mx\u001b[0m\u001b[0;34m[\u001b[0m\u001b[0;36m1\u001b[0m\u001b[0;34m:\u001b[0m\u001b[0;34m]\u001b[0m\u001b[0;34m)\u001b[0m\u001b[0;34m)\u001b[0m\u001b[0;34m\u001b[0m\u001b[0;34m\u001b[0m\u001b[0m\n\u001b[0m\u001b[1;32m      4\u001b[0m \u001b[0;34m\u001b[0m\u001b[0m\n\u001b[1;32m      5\u001b[0m \u001b[0mchipo\u001b[0m\u001b[0;34m.\u001b[0m\u001b[0mdescribe\u001b[0m\u001b[0;34m(\u001b[0m\u001b[0;34m)\u001b[0m\u001b[0;34m\u001b[0m\u001b[0;34m\u001b[0m\u001b[0m\n",
            "\u001b[0;31mTypeError\u001b[0m: 'float' object is not subscriptable"
          ]
        }
      ]
    },
    {
      "cell_type": "code",
      "metadata": {
        "id": "12uAAOzl8Qoy",
        "outputId": "b408f116-f10c-4dee-ce2e-c7306f1d2708",
        "colab": {
          "base_uri": "https://localhost:8080/",
          "height": 122
        }
      },
      "source": [
        "chipo['item_price'].head()"
      ],
      "execution_count": null,
      "outputs": [
        {
          "output_type": "execute_result",
          "data": {
            "text/plain": [
              "0     2.39\n",
              "1     3.39\n",
              "2     3.39\n",
              "3     2.39\n",
              "4    16.98\n",
              "Name: item_price, dtype: float64"
            ]
          },
          "metadata": {
            "tags": []
          },
          "execution_count": 50
        }
      ]
    },
    {
      "cell_type": "code",
      "metadata": {
        "id": "JvcMHtq09NQp"
      },
      "source": [
        "#################################################################################\n",
        "#step4 : 탐색적 분석\n",
        "\n",
        "#마치 스무고개와 비슷하다. 조금씩 복잡한 질문들로 데이터분석을 함\n",
        "# ex) 주문당 평균 금액 => 한 주문에 10달러 이상 사용한 주문들의 id 출력 => 가장 비싼 주문에서 item이 몇개 팔렸는지"
      ],
      "execution_count": null,
      "outputs": []
    },
    {
      "cell_type": "code",
      "metadata": {
        "id": "EmsUB0QDQSuI",
        "outputId": "5ed256b5-5b18-48dc-ce53-97bc93d65808",
        "colab": {
          "base_uri": "https://localhost:8080/",
          "height": 34
        }
      },
      "source": [
        "# 주문당 평균금액\n",
        "\n",
        "chipo.groupby('order_id')['item_price'].sum().mean()\n"
      ],
      "execution_count": null,
      "outputs": [
        {
          "output_type": "execute_result",
          "data": {
            "text/plain": [
              "18.811428571428717"
            ]
          },
          "metadata": {
            "tags": []
          },
          "execution_count": 56
        }
      ]
    },
    {
      "cell_type": "code",
      "metadata": {
        "id": "PNtjvjgARGse",
        "outputId": "b6be392a-3281-4d87-f88a-7e424243e447",
        "colab": {
          "base_uri": "https://localhost:8080/",
          "height": 175
        }
      },
      "source": [
        "\n",
        "chipo.groupby('order_id')['item_price'].sum().describe()[:10]"
      ],
      "execution_count": null,
      "outputs": [
        {
          "output_type": "execute_result",
          "data": {
            "text/plain": [
              "count    1834.000000\n",
              "mean       18.811429\n",
              "std        11.652512\n",
              "min        10.080000\n",
              "25%        12.572500\n",
              "50%        16.200000\n",
              "75%        21.960000\n",
              "max       205.250000\n",
              "Name: item_price, dtype: float64"
            ]
          },
          "metadata": {
            "tags": []
          },
          "execution_count": 57
        }
      ]
    },
    {
      "cell_type": "code",
      "metadata": {
        "id": "zKTErwBPROgy",
        "outputId": "8d375905-8c83-48cf-f754-d1b044397543",
        "colab": {
          "base_uri": "https://localhost:8080/",
          "height": 246
        }
      },
      "source": [
        "# 한 주문에 10달러 이상 사용한 주문들의 id 출력\n",
        "\n",
        "chipo_orderid_group = chipo.groupby('order_id').sum()\n",
        "result = chipo_orderid_group[chipo_orderid_group.item_price >= 10]\n",
        "print(result[:10])\n",
        "print(result.index.values)"
      ],
      "execution_count": null,
      "outputs": [
        {
          "output_type": "stream",
          "text": [
            "          quantity  item_price\n",
            "order_id                      \n",
            "1                4       11.56\n",
            "10               2       13.20\n",
            "100              2       10.08\n",
            "1000             2       20.50\n",
            "1001             2       10.08\n",
            "1002             2       10.68\n",
            "1003             2       13.00\n",
            "1004             2       21.96\n",
            "1005             3       12.15\n",
            "1006             8       71.40\n",
            "['1' '10' '100' ... '997' '998' '999']\n"
          ],
          "name": "stdout"
        }
      ]
    },
    {
      "cell_type": "code",
      "metadata": {
        "id": "9FTLTvchT4lj",
        "outputId": "cb018464-9815-4d08-c53e-43bf16e90d95",
        "colab": {
          "base_uri": "https://localhost:8080/",
          "height": 878
        }
      },
      "source": [
        "# 각 아이템의 가격을 구하기\n",
        "# 동일 아이템을 1개 구매한 주문만 선별하기\n",
        "# item_name을 기준으로 group_by연산을 수행하고 min() 함수로 각 그룹별 최저가를 계산\n",
        "# item_price를 기준으로 정렬\n",
        "\n",
        "chipo_one_item = chipo[chipo.quantity == 1]\n",
        "price_per_item = chipo_one_item.groupby('item_name').min()\n",
        "price_per_item.sort_values(by = 'item_price', ascending = False)[:18]"
      ],
      "execution_count": null,
      "outputs": [
        {
          "output_type": "execute_result",
          "data": {
            "text/html": [
              "<div>\n",
              "<style scoped>\n",
              "    .dataframe tbody tr th:only-of-type {\n",
              "        vertical-align: middle;\n",
              "    }\n",
              "\n",
              "    .dataframe tbody tr th {\n",
              "        vertical-align: top;\n",
              "    }\n",
              "\n",
              "    .dataframe thead th {\n",
              "        text-align: right;\n",
              "    }\n",
              "</style>\n",
              "<table border=\"1\" class=\"dataframe\">\n",
              "  <thead>\n",
              "    <tr style=\"text-align: right;\">\n",
              "      <th></th>\n",
              "      <th>order_id</th>\n",
              "      <th>quantity</th>\n",
              "      <th>choice_description</th>\n",
              "      <th>item_price</th>\n",
              "    </tr>\n",
              "    <tr>\n",
              "      <th>item_name</th>\n",
              "      <th></th>\n",
              "      <th></th>\n",
              "      <th></th>\n",
              "      <th></th>\n",
              "    </tr>\n",
              "  </thead>\n",
              "  <tbody>\n",
              "    <tr>\n",
              "      <th>Steak Salad Bowl</th>\n",
              "      <td>1032</td>\n",
              "      <td>1</td>\n",
              "      <td>[Fresh Tomato Salsa, Lettuce]</td>\n",
              "      <td>9.39</td>\n",
              "    </tr>\n",
              "    <tr>\n",
              "      <th>Barbacoa Salad Bowl</th>\n",
              "      <td>1283</td>\n",
              "      <td>1</td>\n",
              "      <td>[Fresh Tomato Salsa, Guacamole]</td>\n",
              "      <td>9.39</td>\n",
              "    </tr>\n",
              "    <tr>\n",
              "      <th>Carnitas Salad Bowl</th>\n",
              "      <td>1035</td>\n",
              "      <td>1</td>\n",
              "      <td>[Fresh Tomato Salsa, [Rice, Black Beans, Chees...</td>\n",
              "      <td>9.39</td>\n",
              "    </tr>\n",
              "    <tr>\n",
              "      <th>Carnitas Soft Tacos</th>\n",
              "      <td>1011</td>\n",
              "      <td>1</td>\n",
              "      <td>[Fresh Tomato Salsa (Mild), [Black Beans, Rice...</td>\n",
              "      <td>8.99</td>\n",
              "    </tr>\n",
              "    <tr>\n",
              "      <th>Carnitas Crispy Tacos</th>\n",
              "      <td>1774</td>\n",
              "      <td>1</td>\n",
              "      <td>[Fresh Tomato Salsa, [Fajita Vegetables, Rice,...</td>\n",
              "      <td>8.99</td>\n",
              "    </tr>\n",
              "    <tr>\n",
              "      <th>Steak Soft Tacos</th>\n",
              "      <td>1054</td>\n",
              "      <td>1</td>\n",
              "      <td>[Fresh Tomato Salsa (Mild), [Cheese, Sour Cream]]</td>\n",
              "      <td>8.99</td>\n",
              "    </tr>\n",
              "    <tr>\n",
              "      <th>Carnitas Salad</th>\n",
              "      <td>1500</td>\n",
              "      <td>1</td>\n",
              "      <td>[[Fresh Tomato Salsa (Mild), Roasted Chili Cor...</td>\n",
              "      <td>8.99</td>\n",
              "    </tr>\n",
              "    <tr>\n",
              "      <th>Carnitas Bowl</th>\n",
              "      <td>1007</td>\n",
              "      <td>1</td>\n",
              "      <td>[Fresh Tomato (Mild), [Guacamole, Lettuce, Ric...</td>\n",
              "      <td>8.99</td>\n",
              "    </tr>\n",
              "    <tr>\n",
              "      <th>Barbacoa Soft Tacos</th>\n",
              "      <td>1103</td>\n",
              "      <td>1</td>\n",
              "      <td>[Fresh Tomato Salsa, [Black Beans, Cheese, Let...</td>\n",
              "      <td>8.99</td>\n",
              "    </tr>\n",
              "    <tr>\n",
              "      <th>Barbacoa Crispy Tacos</th>\n",
              "      <td>110</td>\n",
              "      <td>1</td>\n",
              "      <td>[Fresh Tomato Salsa, Guacamole]</td>\n",
              "      <td>8.99</td>\n",
              "    </tr>\n",
              "    <tr>\n",
              "      <th>Veggie Salad Bowl</th>\n",
              "      <td>1066</td>\n",
              "      <td>1</td>\n",
              "      <td>[Fresh Tomato Salsa, [Fajita Vegetables, Black...</td>\n",
              "      <td>8.75</td>\n",
              "    </tr>\n",
              "    <tr>\n",
              "      <th>Chicken Salad Bowl</th>\n",
              "      <td>1015</td>\n",
              "      <td>1</td>\n",
              "      <td>[Fresh Tomato Salsa, Fajita Vegetables]</td>\n",
              "      <td>8.75</td>\n",
              "    </tr>\n",
              "    <tr>\n",
              "      <th>Steak Burrito</th>\n",
              "      <td>100</td>\n",
              "      <td>1</td>\n",
              "      <td>[Brown Rice]</td>\n",
              "      <td>8.69</td>\n",
              "    </tr>\n",
              "    <tr>\n",
              "      <th>Steak Crispy Tacos</th>\n",
              "      <td>1044</td>\n",
              "      <td>1</td>\n",
              "      <td>[Fresh Tomato (Mild), [Lettuce, Cheese]]</td>\n",
              "      <td>8.69</td>\n",
              "    </tr>\n",
              "    <tr>\n",
              "      <th>Steak Salad</th>\n",
              "      <td>1406</td>\n",
              "      <td>1</td>\n",
              "      <td>[Fresh Tomato Salsa (Mild), [Rice, Cheese, Sou...</td>\n",
              "      <td>8.69</td>\n",
              "    </tr>\n",
              "    <tr>\n",
              "      <th>Carnitas Burrito</th>\n",
              "      <td>1003</td>\n",
              "      <td>1</td>\n",
              "      <td>[Fresh Tomato (Mild), [Lettuce, Black Beans, G...</td>\n",
              "      <td>8.69</td>\n",
              "    </tr>\n",
              "    <tr>\n",
              "      <th>Steak Bowl</th>\n",
              "      <td>1006</td>\n",
              "      <td>1</td>\n",
              "      <td>[Fresh Tomato (Mild), [Guacamole, Lettuce, Pin...</td>\n",
              "      <td>8.69</td>\n",
              "    </tr>\n",
              "    <tr>\n",
              "      <th>Barbacoa Burrito</th>\n",
              "      <td>1002</td>\n",
              "      <td>1</td>\n",
              "      <td>[Fresh Tomato (Mild), [Black Beans, Rice, Sour...</td>\n",
              "      <td>8.69</td>\n",
              "    </tr>\n",
              "  </tbody>\n",
              "</table>\n",
              "</div>"
            ],
            "text/plain": [
              "                      order_id  ...  item_price\n",
              "item_name                       ...            \n",
              "Steak Salad Bowl          1032  ...        9.39\n",
              "Barbacoa Salad Bowl       1283  ...        9.39\n",
              "Carnitas Salad Bowl       1035  ...        9.39\n",
              "Carnitas Soft Tacos       1011  ...        8.99\n",
              "Carnitas Crispy Tacos     1774  ...        8.99\n",
              "Steak Soft Tacos          1054  ...        8.99\n",
              "Carnitas Salad            1500  ...        8.99\n",
              "Carnitas Bowl             1007  ...        8.99\n",
              "Barbacoa Soft Tacos       1103  ...        8.99\n",
              "Barbacoa Crispy Tacos      110  ...        8.99\n",
              "Veggie Salad Bowl         1066  ...        8.75\n",
              "Chicken Salad Bowl        1015  ...        8.75\n",
              "Steak Burrito              100  ...        8.69\n",
              "Steak Crispy Tacos        1044  ...        8.69\n",
              "Steak Salad               1406  ...        8.69\n",
              "Carnitas Burrito          1003  ...        8.69\n",
              "Steak Bowl                1006  ...        8.69\n",
              "Barbacoa Burrito          1002  ...        8.69\n",
              "\n",
              "[18 rows x 4 columns]"
            ]
          },
          "metadata": {
            "tags": []
          },
          "execution_count": 66
        }
      ]
    },
    {
      "cell_type": "code",
      "metadata": {
        "id": "USktstPjWjiw",
        "outputId": "f46dc486-d214-4726-98f9-e52d359e05c4",
        "colab": {
          "base_uri": "https://localhost:8080/",
          "height": 265
        }
      },
      "source": [
        "item_name_list = price_per_item.index.tolist()\n",
        "x_pos = np.arange(len(item_name_list))\n",
        "item_price = price_per_item['item_price'].tolist()\n",
        "\n",
        "plt.bar(x_pos, item_price, align = 'center')\n",
        "\n",
        "plt.show()"
      ],
      "execution_count": null,
      "outputs": [
        {
          "output_type": "display_data",
          "data": {
            "image/png": "[encoded data removed]",
            "text/plain": [
              "<Figure size 432x288 with 1 Axes>"
            ]
          },
          "metadata": {
            "tags": [],
            "needs_background": "light"
          }
        }
      ]
    },
    {
      "cell_type": "code",
      "metadata": {
        "id": "PYm_bvrIYLus",
        "outputId": "ae84f71f-c4d7-4819-f6d6-db1b3bfddd86",
        "colab": {
          "base_uri": "https://localhost:8080/",
          "height": 265
        }
      },
      "source": [
        "plt.hist(item_price)\n",
        "\n",
        "plt.show()"
      ],
      "execution_count": null,
      "outputs": [
        {
          "output_type": "display_data",
          "data": {
            "image/png": "[encoded data removed]",
            "text/plain": [
              "<Figure size 432x288 with 1 Axes>"
            ]
          },
          "metadata": {
            "tags": [],
            "needs_background": "light"
          }
        }
      ]
    },
    {
      "cell_type": "code",
      "metadata": {
        "id": "OsCN0fR-YsvG",
        "outputId": "6fc9f159-bef6-4af5-d277-97552f70e298",
        "colab": {
          "base_uri": "https://localhost:8080/",
          "height": 225
        }
      },
      "source": [
        "# 가장 비싼 주문에서 item이 총 몇개 팔렸는지 출력하기\n",
        "\n",
        "chipo.groupby('order_id').sum().sort_values(by = 'item_price', ascending = False)[:5]\n"
      ],
      "execution_count": null,
      "outputs": [
        {
          "output_type": "execute_result",
          "data": {
            "text/html": [
              "<div>\n",
              "<style scoped>\n",
              "    .dataframe tbody tr th:only-of-type {\n",
              "        vertical-align: middle;\n",
              "    }\n",
              "\n",
              "    .dataframe tbody tr th {\n",
              "        vertical-align: top;\n",
              "    }\n",
              "\n",
              "    .dataframe thead th {\n",
              "        text-align: right;\n",
              "    }\n",
              "</style>\n",
              "<table border=\"1\" class=\"dataframe\">\n",
              "  <thead>\n",
              "    <tr style=\"text-align: right;\">\n",
              "      <th></th>\n",
              "      <th>quantity</th>\n",
              "      <th>item_price</th>\n",
              "    </tr>\n",
              "    <tr>\n",
              "      <th>order_id</th>\n",
              "      <th></th>\n",
              "      <th></th>\n",
              "    </tr>\n",
              "  </thead>\n",
              "  <tbody>\n",
              "    <tr>\n",
              "      <th>926</th>\n",
              "      <td>23</td>\n",
              "      <td>205.25</td>\n",
              "    </tr>\n",
              "    <tr>\n",
              "      <th>1443</th>\n",
              "      <td>35</td>\n",
              "      <td>160.74</td>\n",
              "    </tr>\n",
              "    <tr>\n",
              "      <th>1483</th>\n",
              "      <td>14</td>\n",
              "      <td>139.00</td>\n",
              "    </tr>\n",
              "    <tr>\n",
              "      <th>691</th>\n",
              "      <td>11</td>\n",
              "      <td>118.25</td>\n",
              "    </tr>\n",
              "    <tr>\n",
              "      <th>1786</th>\n",
              "      <td>20</td>\n",
              "      <td>114.30</td>\n",
              "    </tr>\n",
              "  </tbody>\n",
              "</table>\n",
              "</div>"
            ],
            "text/plain": [
              "          quantity  item_price\n",
              "order_id                      \n",
              "926             23      205.25\n",
              "1443            35      160.74\n",
              "1483            14      139.00\n",
              "691             11      118.25\n",
              "1786            20      114.30"
            ]
          },
          "metadata": {
            "tags": []
          },
          "execution_count": 75
        }
      ]
    },
    {
      "cell_type": "code",
      "metadata": {
        "id": "TvByKaVRdjk5",
        "outputId": "b5bddff1-cd9a-4a41-969e-d12d5eb120c8",
        "colab": {
          "base_uri": "https://localhost:8080/",
          "height": 297
        }
      },
      "source": [
        "# 'Veggie Salad Bowl'이 몇번 주문되었는지\n",
        "\n",
        "chipo_salad = chipo[chipo['item_name'] == 'Veggie Salad Bowl']\n",
        "print(len(chipo_salad))\n",
        "chipo_salad.head(5)"
      ],
      "execution_count": null,
      "outputs": [
        {
          "output_type": "stream",
          "text": [
            "18\n"
          ],
          "name": "stdout"
        },
        {
          "output_type": "execute_result",
          "data": {
            "text/html": [
              "<div>\n",
              "<style scoped>\n",
              "    .dataframe tbody tr th:only-of-type {\n",
              "        vertical-align: middle;\n",
              "    }\n",
              "\n",
              "    .dataframe tbody tr th {\n",
              "        vertical-align: top;\n",
              "    }\n",
              "\n",
              "    .dataframe thead th {\n",
              "        text-align: right;\n",
              "    }\n",
              "</style>\n",
              "<table border=\"1\" class=\"dataframe\">\n",
              "  <thead>\n",
              "    <tr style=\"text-align: right;\">\n",
              "      <th></th>\n",
              "      <th>order_id</th>\n",
              "      <th>quantity</th>\n",
              "      <th>item_name</th>\n",
              "      <th>choice_description</th>\n",
              "      <th>item_price</th>\n",
              "    </tr>\n",
              "  </thead>\n",
              "  <tbody>\n",
              "    <tr>\n",
              "      <th>186</th>\n",
              "      <td>83</td>\n",
              "      <td>1</td>\n",
              "      <td>Veggie Salad Bowl</td>\n",
              "      <td>[Fresh Tomato Salsa, [Fajita Vegetables, Rice,...</td>\n",
              "      <td>11.25</td>\n",
              "    </tr>\n",
              "    <tr>\n",
              "      <th>295</th>\n",
              "      <td>128</td>\n",
              "      <td>1</td>\n",
              "      <td>Veggie Salad Bowl</td>\n",
              "      <td>[Fresh Tomato Salsa, [Fajita Vegetables, Lettu...</td>\n",
              "      <td>11.25</td>\n",
              "    </tr>\n",
              "    <tr>\n",
              "      <th>455</th>\n",
              "      <td>195</td>\n",
              "      <td>1</td>\n",
              "      <td>Veggie Salad Bowl</td>\n",
              "      <td>[Fresh Tomato Salsa, [Fajita Vegetables, Rice,...</td>\n",
              "      <td>11.25</td>\n",
              "    </tr>\n",
              "    <tr>\n",
              "      <th>496</th>\n",
              "      <td>207</td>\n",
              "      <td>1</td>\n",
              "      <td>Veggie Salad Bowl</td>\n",
              "      <td>[Fresh Tomato Salsa, [Rice, Lettuce, Guacamole...</td>\n",
              "      <td>11.25</td>\n",
              "    </tr>\n",
              "    <tr>\n",
              "      <th>960</th>\n",
              "      <td>394</td>\n",
              "      <td>1</td>\n",
              "      <td>Veggie Salad Bowl</td>\n",
              "      <td>[Fresh Tomato Salsa, [Fajita Vegetables, Lettu...</td>\n",
              "      <td>8.75</td>\n",
              "    </tr>\n",
              "  </tbody>\n",
              "</table>\n",
              "</div>"
            ],
            "text/plain": [
              "    order_id  ...  item_price\n",
              "186       83  ...       11.25\n",
              "295      128  ...       11.25\n",
              "455      195  ...       11.25\n",
              "496      207  ...       11.25\n",
              "960      394  ...        8.75\n",
              "\n",
              "[5 rows x 5 columns]"
            ]
          },
          "metadata": {
            "tags": []
          },
          "execution_count": 80
        }
      ]
    },
    {
      "cell_type": "code",
      "metadata": {
        "id": "rOJhlhMPeTUi",
        "outputId": "1534a721-9f7d-422e-f431-360ed0292d12",
        "colab": {
          "base_uri": "https://localhost:8080/",
          "height": 246
        }
      },
      "source": [
        "# 'Chicken Bowl'을 2개 이상 주문한 주문 횟수\n",
        "\n",
        "chipo_2chickenbowl = chipo[chipo['item_name'] == 'Chicken Bowl']\n",
        "# 메뉴이름이 치킨볼인 행데이터를 추출해 새테이블을 만든다\n",
        "chipo_2chickenbowl_ordersum = chipo_2chickenbowl.groupby('order_id').sum()['quantity']\n",
        "# 주문번호를 기준으로 치킨볼데이터의 주문수 합을 구한다\n",
        "chipo_chicken_result = chipo_2chickenbowl_ordersum[chipo_2chickenbowl_ordersum >= 2]\n",
        "# 결과테이블에 주문수 합이 2이상인 행데이터만 추출한다.\n",
        "print(chipo_chicken_result)"
      ],
      "execution_count": null,
      "outputs": [
        {
          "output_type": "stream",
          "text": [
            "order_id\n",
            "1004    2\n",
            "1023    2\n",
            "1072    2\n",
            "1078    2\n",
            "1091    2\n",
            "       ..\n",
            "972     2\n",
            "973     3\n",
            "983     2\n",
            "986     2\n",
            "997     2\n",
            "Name: quantity, Length: 114, dtype: int64\n"
          ],
          "name": "stdout"
        }
      ]
    }
  ]
}