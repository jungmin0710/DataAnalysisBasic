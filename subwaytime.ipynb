{
  "nbformat": 4,
  "nbformat_minor": 0,
  "metadata": {
    "colab": {
      "name": "subwaytime.ipynb",
      "provenance": [],
      "collapsed_sections": [],
      "authorship_tag": "ABX9TyN/NBnLAe1wYY4lLdf2PugS",
      "include_colab_link": true
    },
    "kernelspec": {
      "name": "python3",
      "display_name": "Python 3"
    }
  },
  "cells": [
    {
      "cell_type": "markdown",
      "metadata": {
        "id": "view-in-github",
        "colab_type": "text"
      },
      "source": [
        "<a href=\"https://colab.research.google.com/github/jungmin0710/DataAnalysisBasic/blob/main/subwaytime.ipynb\" target=\"_parent\"><img src=\"https://colab.research.google.com/assets/colab-badge.svg\" alt=\"Open In Colab\"/></a>"
      ]
    },
    {
      "cell_type": "code",
      "metadata": {
        "id": "n6QyyXvM7L59"
      },
      "source": [
        "import csv\n",
        "import matplotlib.pyplot as plt"
      ],
      "execution_count": null,
      "outputs": []
    },
    {
      "cell_type": "code",
      "metadata": {
        "id": "FZ_NOtoP7cHV",
        "outputId": "4cf02dc2-63cc-472e-9eba-e2e2ff45134f",
        "colab": {
          "base_uri": "https://localhost:8080/"
        }
      },
      "source": [
        "%matplotlib inline  \n",
        "import matplotlib as mpl  # 기본 설정 만지는 용도\n",
        "import matplotlib.pyplot as plt  # 그래프 그리는 용도\n",
        "import matplotlib.font_manager as fm  # 폰트 관련 용도\n",
        "!apt-get update -qq\n",
        "!apt-get install fonts-nanum* -qq\n",
        "path = '/usr/share/fonts/truetype/nanum/NanumGothicEco.ttf'  # 설치된 나눔글꼴중 원하는 녀석의 전체 경로를 가져오자\n",
        "font_name = fm.FontProperties(fname=path, size=10).get_name()\n",
        "print(font_name)\n",
        "plt.rc('font', family=font_name)\n",
        "# 우선 fm._rebuild() 를 해주고\n",
        "fm._rebuild()\n",
        "mpl.rcParams['axes.unicode_minus'] = False#마이너스 기호 나오게\n",
        "\n",
        "#plt.rc('font', family=font_name)"
      ],
      "execution_count": null,
      "outputs": [
        {
          "output_type": "stream",
          "text": [
            "NanumGothic Eco\n"
          ],
          "name": "stdout"
        }
      ]
    },
    {
      "cell_type": "code",
      "metadata": {
        "id": "Vduu7ipw_Jln"
      },
      "source": [
        "#출근 시간대 사람들이 가장 많이 타고 내리는 역은 어디일까?"
      ],
      "execution_count": null,
      "outputs": []
    },
    {
      "cell_type": "code",
      "metadata": {
        "id": "zDiRgT087l71",
        "outputId": "7bfdef8d-8c89-48e0-c7de-99dee12ecab8",
        "colab": {
          "base_uri": "https://localhost:8080/"
        }
      },
      "source": [
        "f = open('subwaytime.csv', encoding = 'cp949')\n",
        "data = csv.reader(f)\n",
        "next(data)\n",
        "next(data)\n",
        "mx = 0\n",
        "mx_station = ''\n",
        "for row in data:\n",
        "  row[4:] = map(int, row[4:])\n",
        "  if sum(row[10:15:2]) > mx:\n",
        "    mx = sum(row[10:15:2])\n",
        "    mx_station = row[3] + '(' + row[1] + ')'\n",
        "print(\"출근시간 사람들이 가장 많이 타는 역 : \", mx_station, mx)"
      ],
      "execution_count": null,
      "outputs": [
        {
          "output_type": "stream",
          "text": [
            "출근시간 사람들이 가장 많이 타는 역 :  신림(2호선) 809541\n"
          ],
          "name": "stdout"
        }
      ]
    },
    {
      "cell_type": "code",
      "metadata": {
        "id": "fDbaNJ1u_cI8",
        "outputId": "0999b8cd-3d28-4f93-e309-106be801e37f",
        "colab": {
          "base_uri": "https://localhost:8080/"
        }
      },
      "source": [
        "f = open('subwaytime.csv', encoding = 'cp949')\n",
        "data = csv.reader(f)\n",
        "next(data)\n",
        "next(data)\n",
        "mx = 0\n",
        "mx_station = ''\n",
        "for row in data:\n",
        "  row[4:] = map(int, row[4:])\n",
        "  a = row[11:16:2]\n",
        "  if sum(a) > mx:\n",
        "    mx = sum(a)\n",
        "    mx_station = row[3] + '(' + row[1] + ')'\n",
        "print(\"출근시간 사람들이 가장 많이 내리는 역 : \", mx_station, mx)"
      ],
      "execution_count": null,
      "outputs": [
        {
          "output_type": "stream",
          "text": [
            "출근시간 사람들이 가장 많이 내리는 역 :  강남(2호선) 984427\n"
          ],
          "name": "stdout"
        }
      ]
    },
    {
      "cell_type": "code",
      "metadata": {
        "id": "CmPCuxk-BJuX"
      },
      "source": [
        "#밤 11시에 사람들이 가장 많이 타는 역은 어디일까?"
      ],
      "execution_count": null,
      "outputs": []
    },
    {
      "cell_type": "code",
      "metadata": {
        "id": "f7g87NXnCY9H",
        "outputId": "189a6420-7a7e-4059-ab55-1cd68001483e",
        "colab": {
          "base_uri": "https://localhost:8080/"
        }
      },
      "source": [
        "f = open('subwaytime.csv', encoding = 'cp949')\n",
        "data = csv.reader(f)\n",
        "next(data)\n",
        "next(data)\n",
        "mx = 0\n",
        "mx_station = ''\n",
        "t = int(input('몇 시의 승차 인원이 가장 많은 역이 궁금하세요? : '))\n",
        "\n",
        "for row in data:\n",
        "  row[4:] = map(int, row[4:])\n",
        "  a = row[4+(t-4)*2]\n",
        "  if a > mx:\n",
        "    mx = a\n",
        "    mx_station = row[3] + '(' + row[1] + ')'\n",
        "\n",
        "print(mx_station, mx)"
      ],
      "execution_count": null,
      "outputs": [
        {
          "output_type": "stream",
          "text": [
            "몇 시의 승차 인원이 가장 많은 역이 궁금하세요? : 23\n",
            "강남(2호선) 145504\n"
          ],
          "name": "stdout"
        }
      ]
    },
    {
      "cell_type": "code",
      "metadata": {
        "id": "_3elmO3xDfqq"
      },
      "source": [
        "#밤 11시에 사람들이 가장 많이 내리는 역은 어디일까?"
      ],
      "execution_count": null,
      "outputs": []
    },
    {
      "cell_type": "code",
      "metadata": {
        "id": "EDteejyxESpH",
        "outputId": "70e6c5c4-7a98-4695-e8e0-10d6820c5520",
        "colab": {
          "base_uri": "https://localhost:8080/"
        }
      },
      "source": [
        "f = open('subwaytime.csv', encoding = 'cp949')\n",
        "data = csv.reader(f)\n",
        "next(data)\n",
        "next(data)\n",
        "mx = 0\n",
        "mx_station = ''\n",
        "t = int(input('몇 시의 하차 인원이 가장 많은 역이 궁금하세요? : '))\n",
        "\n",
        "for row in data:\n",
        "  row[5:] = map(int, row[5:])\n",
        "  a = row[5+(t-4)*2]\n",
        "  if a > mx:\n",
        "    mx = a\n",
        "    mx_station = row[3] + '(' + row[1] + ')'\n",
        "\n",
        "print(mx_station, mx)"
      ],
      "execution_count": null,
      "outputs": [
        {
          "output_type": "stream",
          "text": [
            "몇 시의 하차 인원이 가장 많은 역이 궁금하세요? : 23\n",
            "신림(2호선) 109651\n"
          ],
          "name": "stdout"
        }
      ]
    },
    {
      "cell_type": "code",
      "metadata": {
        "id": "Hx8bWASYFp7z"
      },
      "source": [
        "#시간대별로 하차 인원이 가장 많은 역을 찾으려면?"
      ],
      "execution_count": null,
      "outputs": []
    },
    {
      "cell_type": "code",
      "metadata": {
        "id": "lhBHeanZLDh_"
      },
      "source": [
        "f = open('subwaytime.csv', encoding='cp949')\n",
        "data = csv.reader(f)\n",
        "next(data)\n",
        "next(data)\n",
        "mx = [0]*24\n",
        "mx_station = [''] * 24\n",
        "\n",
        "for row in data:\n",
        "  row[4:] = map(int, row[4:])\n",
        "  for j in range(24):\n",
        "    b = row[5 + j * 2]\n",
        "    if b > mx[j]:\n",
        "      mx[j] = b\n",
        "      mx_station[j] = row[3] + '(' + str(j+4) + ')'"
      ],
      "execution_count": null,
      "outputs": []
    },
    {
      "cell_type": "code",
      "metadata": {
        "id": "obnRLnGQLias",
        "outputId": "0b7ef209-abf9-4a7a-e896-fb0019d53d7d",
        "colab": {
          "base_uri": "https://localhost:8080/",
          "height": 366
        }
      },
      "source": [
        "plt.rc('font', family=font_name)\n",
        "plt.bar(range(24),mx,color='b')\n",
        "plt.xticks(range(24), mx_station, rotation=90)\n",
        "plt.show()"
      ],
      "execution_count": null,
      "outputs": [
        {
          "output_type": "display_data",
          "data": {
            "image/png": "[encoded data removed]",
            "text/plain": [
              "<Figure size 432x288 with 1 Axes>"
            ]
          },
          "metadata": {
            "tags": [],
            "needs_background": "light"
          }
        }
      ]
    },
    {
      "cell_type": "code",
      "metadata": {
        "id": "X4Gp8P1RMjVl"
      },
      "source": [
        "#지하철 시간대별 승하차 인원 추이"
      ],
      "execution_count": null,
      "outputs": []
    },
    {
      "cell_type": "code",
      "metadata": {
        "id": "8E9vBtAGNCdA"
      },
      "source": [
        "f = open('subwaytime.csv', encoding='cp949')\n",
        "data = csv.reader(f)\n",
        "next(data)\n",
        "next(data)\n",
        "\n",
        "s_in = [0] * 24\n",
        "s_out = [0] * 24\n",
        "\n",
        "for row in data:\n",
        "  row[4:] = map(int, row[4:])\n",
        "  for i in range(24):\n",
        "    s_in[i] += row[4+i*2]\n",
        "    s_out[i] += row[5+i*2]"
      ],
      "execution_count": null,
      "outputs": []
    },
    {
      "cell_type": "code",
      "metadata": {
        "id": "EMYRu8CaNa2z",
        "outputId": "6983505e-a8d1-4879-97eb-0d128860474d",
        "colab": {
          "base_uri": "https://localhost:8080/",
          "height": 280
        }
      },
      "source": [
        "plt.rc('font', family=font_name)\n",
        "plt.title('지하철 시간대별 승하차 인원 추이')\n",
        "plt.plot(s_in, label = '승차')\n",
        "plt.plot(s_out, label = '하차')\n",
        "plt.legend()\n",
        "plt.xticks(range(24), range(4,28))\n",
        "plt.show()"
      ],
      "execution_count": null,
      "outputs": [
        {
          "output_type": "display_data",
          "data": {
            "image/png": "[encoded data removed]",
            "text/plain": [
              "<Figure size 432x288 with 1 Axes>"
            ]
          },
          "metadata": {
            "tags": [],
            "needs_background": "light"
          }
        }
      ]
    },
    {
      "cell_type": "code",
      "metadata": {
        "id": "ZjIQOjjPNuin",
        "outputId": "87495647-3896-40a0-ed2e-2297bbfc5d8e",
        "colab": {
          "base_uri": "https://localhost:8080/"
        }
      },
      "source": [
        "#퀴즈 : 어느 지역 클럽이 가장 붐볐을지 상위 5개역의 이름을 뽑아보라.(자료는 현재 자료로 그대로 사용)\n",
        "f = open('subwaytime.csv', encoding='cp949')\n",
        "data = csv.reader(f)\n",
        "next(data)\n",
        "next(data)\n",
        "time = [20,21,22,23,24] #클럽 이용 시간대는 저녁이므로 20~24시 사이의 하차시간을 기준으로 잡음\n",
        "Station_dict = {} #딕셔너리 형태로 저장\n",
        "Station_Population = 0 #하차인구의 총 합\n",
        "\n",
        "for row in data:\n",
        "  row[5:] = map(int, row[5:])\n",
        "  for i in time: #해당 시간대의 데이터를\n",
        "    a = row[5+(i-4)*2] #하차인구만 뽑아서\n",
        "    Station_Population += a #총 하차인구에 저장\n",
        "  Station_dict[row[3]] = Station_Population #딕셔너리에 역이름: 총하차인구 형태로 저장\n",
        "  Station_Population = 0 #하차인구의 총 합을 초기화\n",
        "\n",
        "Sorted_dict = sorted(Station_dict.items(), reverse=True, key=lambda item: item[1]) #값을 기준으로 내림차순 정렬하기\n",
        "\n",
        "\n",
        "#상위 5개역 출력\n",
        "n = 1\n",
        "print(\"상위 5개 역은 다음과 같습니다.\")\n",
        "for key, value in Sorted_dict: \n",
        "  print(n,\"위 : \", key, \"역(\", value,\"명)\")\n",
        "  n += 1\n",
        "  if n > 5: break\n",
        "\n",
        "\n"
      ],
      "execution_count": 49,
      "outputs": [
        {
          "output_type": "stream",
          "text": [
            "상위 5개 역은 다음과 같습니다.\n",
            "1 위 :  신림 역( 643661 명)\n",
            "2 위 :  서울대입구(관악구청) 역( 412158 명)\n",
            "3 위 :  구로디지털단지 역( 408610 명)\n",
            "4 위 :  수유(강북구청) 역( 299689 명)\n",
            "5 위 :  강남 역( 286610 명)\n"
          ],
          "name": "stdout"
        }
      ]
    },
    {
      "cell_type": "code",
      "metadata": {
        "id": "4u5w2yXmP4Ab"
      },
      "source": [
        ""
      ],
      "execution_count": null,
      "outputs": []
    }
  ]
}